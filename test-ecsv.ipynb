{
 "cells": [
  {
   "cell_type": "code",
   "execution_count": 1,
   "id": "cd1f162d-d107-4b27-9c6e-69f7b3701dad",
   "metadata": {},
   "outputs": [],
   "source": [
    "import numpy as np\n",
    "import matplotlib.pyplot as plt\n",
    "from astropy.table import Table"
   ]
  },
  {
   "cell_type": "code",
   "execution_count": 2,
   "id": "35f66596-aa11-43f4-a66f-552d2b4a46c2",
   "metadata": {},
   "outputs": [
    {
     "name": "stdout",
     "output_type": "stream",
     "text": [
      "A000879.fits                       A190273_converted.fits\n",
      "A092457.4+113231.fits              A260426_conv.fits\n",
      "A104776.fits                       B150549.0+123634_conv_no_agc.fits\n",
      "A161941.4+131458.fits              S000018.4+273720_conv_no_agc.fits\n",
      "A190273_conv.fits\n"
     ]
    }
   ],
   "source": [
    "%ls *.fits"
   ]
  },
  {
   "cell_type": "code",
   "execution_count": 5,
   "id": "84dde655-a2e1-4271-88ef-72cd8d199403",
   "metadata": {},
   "outputs": [],
   "source": [
    "t = Table.read('A000879.fits')"
   ]
  },
  {
   "cell_type": "code",
   "execution_count": 7,
   "id": "5f35a698-fb26-442e-97a0-21502dc256a4",
   "metadata": {},
   "outputs": [
    {
     "data": {
      "text/plain": [
       "OrderedDict([('EXTNAME', 'Single Dish'),\n",
       "             ('OBSERVAT', 'Arecibo Observatory'),\n",
       "             ('TELESCOP', 'Arecibo Radio Telescope'),\n",
       "             ('INSTRUME', 'L-Band Wide'),\n",
       "             ('BACKEND', 'WAPPS'),\n",
       "             ('BEAM', '3.3'),\n",
       "             ('NANVALUE', -999.0),\n",
       "             ('OBJECT', 'AGC 879'),\n",
       "             ('NAME', ''),\n",
       "             ('HISRC', 'S012059.8+341455'),\n",
       "             ('ORIGIN', 'Cornell University'),\n",
       "             ('RA', 20.249166),\n",
       "             ('DEC', 34.248611),\n",
       "             ('EQUINOX', 2000.0),\n",
       "             ('RESTFRQ', 1404060000.0),\n",
       "             ('BW', 24.987793),\n",
       "             ('CHAN', 2048),\n",
       "             ('V21SYS', 5122.24),\n",
       "             ('comments',\n",
       "              ['',\n",
       "               'Arecibo Pisces-Perseus Supercluster Survey (APPSS)',\n",
       "               'Undergraduate ALFALFA Team (UAT)',\n",
       "               'Last updated: Mon Feb 28 11:32:36 2022 by GLH/MPH',\n",
       "               'This spectrum has been baselined.'])])"
      ]
     },
     "execution_count": 7,
     "metadata": {},
     "output_type": "execute_result"
    }
   ],
   "source": [
    "t.meta"
   ]
  },
  {
   "cell_type": "code",
   "execution_count": 26,
   "id": "4305171a-e80f-4624-927e-4b6c8432fff0",
   "metadata": {},
   "outputs": [],
   "source": [
    "t.write('test-A000879.ecsv', overwrite=True)"
   ]
  },
  {
   "cell_type": "code",
   "execution_count": 29,
   "id": "cfaa80ed-4aa9-4a9f-a1fb-ebcd568886ce",
   "metadata": {},
   "outputs": [
    {
     "data": {
      "text/plain": [
       "['# %ECSV 1.0',\n",
       " '# ---',\n",
       " '# datatype:',\n",
       " '# - {name: VHELIO, unit: km / s, datatype: float64}',\n",
       " '# - {name: FREQUENCY, unit: MHz, datatype: float64}',\n",
       " '# - {name: FLUX, unit: mJy, datatype: float32}',\n",
       " '# - {name: BASELINE, unit: mJy, datatype: float64}',\n",
       " '# - {name: WEIGHT, datatype: int16}',\n",
       " '# meta: !!omap',\n",
       " '# - {EXTNAME: Single Dish}']"
      ]
     },
     "execution_count": 29,
     "metadata": {},
     "output_type": "execute_result"
    }
   ],
   "source": [
    "%%!\n",
    "head test-A000879.ecsv"
   ]
  },
  {
   "cell_type": "code",
   "execution_count": null,
   "id": "abcd952f-893b-4d54-9054-eb26d253a278",
   "metadata": {},
   "outputs": [],
   "source": []
  }
 ],
 "metadata": {
  "kernelspec": {
   "display_name": "Python 3 (ipykernel)",
   "language": "python",
   "name": "python3"
  },
  "language_info": {
   "codemirror_mode": {
    "name": "ipython",
    "version": 3
   },
   "file_extension": ".py",
   "mimetype": "text/x-python",
   "name": "python",
   "nbconvert_exporter": "python",
   "pygments_lexer": "ipython3",
   "version": "3.10.9"
  }
 },
 "nbformat": 4,
 "nbformat_minor": 5
}
