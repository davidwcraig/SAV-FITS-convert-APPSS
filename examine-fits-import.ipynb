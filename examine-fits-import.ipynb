{
 "cells": [
  {
   "cell_type": "markdown",
   "id": "d3c67a75-b6c0-49e2-a233-94e6268f970d",
   "metadata": {},
   "source": [
    "# Examining fits files\n",
    "\n",
    "Also testing out import of SavFITSconvert to a notebook."
   ]
  },
  {
   "cell_type": "code",
   "execution_count": 1,
   "id": "b7dcac21-1f30-4820-b0e8-420f3df4e8f7",
   "metadata": {
    "tags": []
   },
   "outputs": [],
   "source": [
    "# import\n",
    "import SavFITSconvert"
   ]
  },
  {
   "cell_type": "code",
   "execution_count": 2,
   "id": "b70a67e6-e314-4ff5-a176-4b770d4639a7",
   "metadata": {
    "tags": []
   },
   "outputs": [
    {
     "name": "stdout",
     "output_type": "stream",
     "text": [
      ">>>>>>>>>>>>>>>>>>>>> HEADER:  0 >>>>>>>>>>>>>>>>>>>>>>>>>>>\n",
      "SIMPLE  =                    T /Written by IDL:  Mon Feb 28 11:32:36 2022       \n",
      "BITPIX  =                    8 /                                                \n",
      "NAXIS   =                    0 /                                                \n",
      "EXTEND  =                    T /File contains extensions                        \n",
      "<<<<<<<<<<<<<<<<<<<<<    END:  0 <<<<<<<<<<<<<<<<<<<<<<<<<<<\n",
      ">>>>>>>>>>>>>>>>>>>>> HEADER:  1 >>>>>>>>>>>>>>>>>>>>>>>>>>>\n",
      "XTENSION= 'BINTABLE'           /Written by IDL:  Mon Feb 28 11:32:36 2022       \n",
      "BITPIX  =                    8 /                                                \n",
      "NAXIS   =                    2 /Binary table                                    \n",
      "NAXIS1  =                   30 /Number of bytes per row                         \n",
      "NAXIS2  =                 2048 /Number of rows                                  \n",
      "PCOUNT  =                    0 /Random parameter count                          \n",
      "GCOUNT  =                    1 /Group count                                     \n",
      "TFIELDS =                    5 /Number of columns                               \n",
      "EXTNAME = 'Single Dish'        /APPSS Survey                                    \n",
      "OBSERVAT= 'Arecibo Observatory' /Designation of Observatory                     \n",
      "TELESCOP= 'Arecibo Radio Telescope' /Designation of Telescope                   \n",
      "INSTRUME= 'L-Band Wide'        /Instrument in use                               \n",
      "BACKEND = 'WAPPS   '           /Backend (Interim Correlator or WAPPS)           \n",
      "BEAM    = '3.3     '           /Beam size [arcminutes]                          \n",
      "NANVALUE=             -999.000 /Value of missing/null data                      \n",
      "OBJECT  = 'AGC 879 '           /Name of observed object                         \n",
      "NAME    = '        '           /Common name                                     \n",
      "HISRC   = 'S012059.8+341455'   /HI source name                                  \n",
      "ORIGIN  = 'Cornell University' /File creation location                          \n",
      "RA      =            20.249166 /Right Ascension in degrees                      \n",
      "DEC     =            34.248611 /Declination in degrees                          \n",
      "EQUINOX =              2000.00 /Epoc for coordinates (years)                    \n",
      "RESTFRQ =          1.40406E+09 /Rest Frequency [Hz]                             \n",
      "BW      =            24.987793 /Bandwidth [MHz]                                 \n",
      "CHAN    =                 2048 /Number of spectral channels                     \n",
      "V21SYS  =              5122.24 /Systemic heliocentric velocity [km/s] (prelimina\n",
      "TFORM1  = '1D      '           /Real*8 (double precision)                       \n",
      "TTYPE1  = 'VHELIO  '           /Label for column 1                              \n",
      "TUNIT1  = 'km/s    '           /Units of column 1                               \n",
      "TFORM2  = '1D      '           /Real*8 (double precision)                       \n",
      "TTYPE2  = 'FREQUENCY'          /Label for column 2                              \n",
      "TUNIT2  = 'MHz     '           /Units of column 2                               \n",
      "TFORM3  = '1E      '           /Real*4 (floating point)                         \n",
      "TTYPE3  = 'FLUX    '           /Label for column 3                              \n",
      "TUNIT3  = 'mJy     '           /Units of column 3                               \n",
      "TFORM4  = '1D      '           /Real*8 (double precision)                       \n",
      "TTYPE4  = 'BASELINE'           /Label for column 4                              \n",
      "TUNIT4  = 'mJy     '           /Units of column 4                               \n",
      "TFORM5  = '1I      '           /Integer*2 (short integer)                       \n",
      "TTYPE5  = 'WEIGHT  '           /Label for column 5                              \n",
      "TUNIT5  = '        '           /Units of column 5                               \n",
      "COMMENT                                                                         \n",
      "COMMENT Arecibo Pisces-Perseus Supercluster Survey (APPSS)                      \n",
      "COMMENT Undergraduate ALFALFA Team (UAT)                                        \n",
      "COMMENT Last updated: Mon Feb 28 11:32:36 2022 by GLH/MPH                       \n",
      "COMMENT This spectrum has been baselined.                                       \n",
      "<<<<<<<<<<<<<<<<<<<<<    END:  1 <<<<<<<<<<<<<<<<<<<<<<<<<<<\n"
     ]
    }
   ],
   "source": [
    "SavFITSconvert.examine_fits('A000879.fits')"
   ]
  },
  {
   "cell_type": "code",
   "execution_count": 3,
   "id": "b431bc15-3f1b-4270-a1e4-f3c563abdb4a",
   "metadata": {
    "tags": []
   },
   "outputs": [
    {
     "name": "stdout",
     "output_type": "stream",
     "text": [
      ">>>>>>>>>>>>>>>>>>>>> HEADER:  0 >>>>>>>>>>>>>>>>>>>>>>>>>>>\n",
      "SIMPLE  =                    T / conforms to FITS standard                      \n",
      "BITPIX  =                    8 / array data type                                \n",
      "NAXIS   =                    0 / number of array dimensions                     \n",
      "EXTEND  =                    T                                                  \n",
      "COMMENT FITS file from idl .sav made using SavFITSconvert.py                    \n",
      "HISTORY David Craig for APPSS                                                   \n",
      "HISTORY Generated 2023-07-24T20:18:28.646794 UTC                                \n",
      "<<<<<<<<<<<<<<<<<<<<<    END:  0 <<<<<<<<<<<<<<<<<<<<<<<<<<<\n",
      ">>>>>>>>>>>>>>>>>>>>> HEADER:  1 >>>>>>>>>>>>>>>>>>>>>>>>>>>\n",
      "XTENSION= 'BINTABLE'           / binary table extension                         \n",
      "BITPIX  =                    8 / array data type                                \n",
      "NAXIS   =                    2 / number of array dimensions                     \n",
      "NAXIS1  =                   32 / length of dimension 1                          \n",
      "NAXIS2  =                 2048 / length of dimension 2                          \n",
      "PCOUNT  =                    0 / number of group parameters                     \n",
      "GCOUNT  =                    1 / number of groups                               \n",
      "TFIELDS =                    4 / number of table fields                         \n",
      "TCUNI1  = 'km/s    '                                                            \n",
      "TCUNI2  = 'MHz     '                                                            \n",
      "TCUNI3  = 'mJy     '                                                            \n",
      "TCUNI4  = 'mJy     '                                                            \n",
      "TTYPE1  = 'VHELIO  '                                                            \n",
      "TFORM1  = 'D       '                                                            \n",
      "TTYPE2  = 'FREQUENCY'                                                           \n",
      "TFORM2  = 'D       '                                                            \n",
      "TTYPE3  = 'FLUX    '                                                            \n",
      "TFORM3  = 'D       '                                                            \n",
      "TTYPE4  = 'BASELINE'                                                            \n",
      "TFORM4  = 'D       '                                                            \n",
      "EXTNAME = 'Single Dish'        / APPSS Survey                                   \n",
      "OBSERVAT= 'Arecibo Observatory' / Designation of Observatory                    \n",
      "TELESCOP= 'Arecibo Radio Telescope' / Designation of Telescope                  \n",
      "INSTRUME= 'LBW receiver'       / Instrument in use                              \n",
      "BEAM    = '3.3x3.8 '           / Beam size [arcminutes] REVISE FOR LBW?         \n",
      "NANVALUE=               -999.0 / Value of missing/null data                     \n",
      "OBJECT  = 'UNASSIGNED  '       / Name of observed object                        \n",
      "NAME    = '        '           / Common name                                    \n",
      "HISRC   = 'A092457.4+113231'   / HI source name                                 \n",
      "ORIGIN  = 'SavFITSconvert.py conversion D Craig' / File creation location       \n",
      "RA      =    141.2391711178065 / Right ascension in degrees                     \n",
      "DEC     =    11.54138895171171 / Declination in degrees                         \n",
      "EPOCH   =               2000.0 / Epoch for coordinates (years)                  \n",
      "CHAN    =                 2048 / Number of spectral channels                    \n",
      "BW      =       24.98779296875 / Bandwidth [MHz]                                \n",
      "WINDOW  = 'h       '           / h for Hamming(?)                               \n",
      "FITTYPE = 'P       '           / P for polynomial                               \n",
      "RMS     =    1.185499429702759 / RMS of spectrum (noise)                        \n",
      "W50     =    183.5436706542969 / estimated velocity width at 50%                \n",
      "W50ERR  =    17.05303001403809 / error in W50                                   \n",
      "W20     =    228.2115325927734 / estimated velocity width at 20%                \n",
      "W20ERR  =    17.05303001403809 / error in W20                                   \n",
      "VSYS    =    3629.439697265625 / systemic velocity [km/s]                       \n",
      "VSYSERR =    12.05831336975098 / error in Vsys [km/s]                           \n",
      "FLUX    =   0.6110618710517883 / integrated flux [Jy km/s]                      \n",
      "FLUXERR =   0.0617220476269722 / error in integrated flux                       \n",
      "SN      =    8.507445335388184 / estimated signal-to-noise ratio                \n",
      "COMMENT Strong absorption at 2500 km/s. Detection is weak, appears horned but co\n",
      "COMMENT uld be gaussian.                                                        \n",
      "COMMENT WARNING! Converted by early version of SavFITSconvert.py                \n",
      "<<<<<<<<<<<<<<<<<<<<<    END:  1 <<<<<<<<<<<<<<<<<<<<<<<<<<<\n"
     ]
    }
   ],
   "source": [
    "# examine one from current conversion function:\n",
    "SavFITSconvert.examine_fits('A092457.4+113231.fits')"
   ]
  },
  {
   "cell_type": "code",
   "execution_count": null,
   "id": "8c12f91a-33e3-4e5e-a5f0-6539b88b4943",
   "metadata": {},
   "outputs": [],
   "source": []
  }
 ],
 "metadata": {
  "kernelspec": {
   "display_name": "Python 3 (ipykernel)",
   "language": "python",
   "name": "python3"
  },
  "language_info": {
   "codemirror_mode": {
    "name": "ipython",
    "version": 3
   },
   "file_extension": ".py",
   "mimetype": "text/x-python",
   "name": "python",
   "nbconvert_exporter": "python",
   "pygments_lexer": "ipython3",
   "version": "3.11.3"
  }
 },
 "nbformat": 4,
 "nbformat_minor": 5
}
