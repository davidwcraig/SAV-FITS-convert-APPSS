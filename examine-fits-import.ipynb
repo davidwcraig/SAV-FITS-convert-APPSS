{
 "cells": [
  {
   "cell_type": "markdown",
   "id": "d3c67a75-b6c0-49e2-a233-94e6268f970d",
   "metadata": {},
   "source": [
    "# Examining fits files\n",
    "\n",
    "Also testing out import of SavFITSconvert to a notebook."
   ]
  },
  {
   "cell_type": "code",
   "execution_count": 1,
   "id": "b7dcac21-1f30-4820-b0e8-420f3df4e8f7",
   "metadata": {
    "tags": []
   },
   "outputs": [],
   "source": [
    "# import\n",
    "import SavFITSconvert"
   ]
  },
  {
   "cell_type": "code",
   "execution_count": 2,
   "id": "b70a67e6-e314-4ff5-a176-4b770d4639a7",
   "metadata": {
    "tags": []
   },
   "outputs": [
    {
     "name": "stdout",
     "output_type": "stream",
     "text": [
      ">>>>>>>>>>>>>>>>>>>>> HEADER:  0 >>>>>>>>>>>>>>>>>>>>>>>>>>>\n",
      "SIMPLE  =                    T /Written by IDL:  Mon Feb 28 11:32:36 2022       \n",
      "BITPIX  =                    8 /                                                \n",
      "NAXIS   =                    0 /                                                \n",
      "EXTEND  =                    T /File contains extensions                        \n",
      "<<<<<<<<<<<<<<<<<<<<<    END:  0 <<<<<<<<<<<<<<<<<<<<<<<<<<<\n",
      ">>>>>>>>>>>>>>>>>>>>> HEADER:  1 >>>>>>>>>>>>>>>>>>>>>>>>>>>\n",
      "XTENSION= 'BINTABLE'           /Written by IDL:  Mon Feb 28 11:32:36 2022       \n",
      "BITPIX  =                    8 /                                                \n",
      "NAXIS   =                    2 /Binary table                                    \n",
      "NAXIS1  =                   30 /Number of bytes per row                         \n",
      "NAXIS2  =                 2048 /Number of rows                                  \n",
      "PCOUNT  =                    0 /Random parameter count                          \n",
      "GCOUNT  =                    1 /Group count                                     \n",
      "TFIELDS =                    5 /Number of columns                               \n",
      "EXTNAME = 'Single Dish'        /APPSS Survey                                    \n",
      "OBSERVAT= 'Arecibo Observatory' /Designation of Observatory                     \n",
      "TELESCOP= 'Arecibo Radio Telescope' /Designation of Telescope                   \n",
      "INSTRUME= 'L-Band Wide'        /Instrument in use                               \n",
      "BACKEND = 'WAPPS   '           /Backend (Interim Correlator or WAPPS)           \n",
      "BEAM    = '3.3     '           /Beam size [arcminutes]                          \n",
      "NANVALUE=             -999.000 /Value of missing/null data                      \n",
      "OBJECT  = 'AGC 879 '           /Name of observed object                         \n",
      "NAME    = '        '           /Common name                                     \n",
      "HISRC   = 'S012059.8+341455'   /HI source name                                  \n",
      "ORIGIN  = 'Cornell University' /File creation location                          \n",
      "RA      =            20.249166 /Right Ascension in degrees                      \n",
      "DEC     =            34.248611 /Declination in degrees                          \n",
      "EQUINOX =              2000.00 /Epoc for coordinates (years)                    \n",
      "RESTFRQ =          1.40406E+09 /Rest Frequency [Hz]                             \n",
      "BW      =            24.987793 /Bandwidth [MHz]                                 \n",
      "CHAN    =                 2048 /Number of spectral channels                     \n",
      "V21SYS  =              5122.24 /Systemic heliocentric velocity [km/s] (prelimina\n",
      "TFORM1  = '1D      '           /Real*8 (double precision)                       \n",
      "TTYPE1  = 'VHELIO  '           /Label for column 1                              \n",
      "TUNIT1  = 'km/s    '           /Units of column 1                               \n",
      "TFORM2  = '1D      '           /Real*8 (double precision)                       \n",
      "TTYPE2  = 'FREQUENCY'          /Label for column 2                              \n",
      "TUNIT2  = 'MHz     '           /Units of column 2                               \n",
      "TFORM3  = '1E      '           /Real*4 (floating point)                         \n",
      "TTYPE3  = 'FLUX    '           /Label for column 3                              \n",
      "TUNIT3  = 'mJy     '           /Units of column 3                               \n",
      "TFORM4  = '1D      '           /Real*8 (double precision)                       \n",
      "TTYPE4  = 'BASELINE'           /Label for column 4                              \n",
      "TUNIT4  = 'mJy     '           /Units of column 4                               \n",
      "TFORM5  = '1I      '           /Integer*2 (short integer)                       \n",
      "TTYPE5  = 'WEIGHT  '           /Label for column 5                              \n",
      "TUNIT5  = '        '           /Units of column 5                               \n",
      "COMMENT                                                                         \n",
      "COMMENT Arecibo Pisces-Perseus Supercluster Survey (APPSS)                      \n",
      "COMMENT Undergraduate ALFALFA Team (UAT)                                        \n",
      "COMMENT Last updated: Mon Feb 28 11:32:36 2022 by GLH/MPH                       \n",
      "COMMENT This spectrum has been baselined.                                       \n",
      "<<<<<<<<<<<<<<<<<<<<<    END:  1 <<<<<<<<<<<<<<<<<<<<<<<<<<<\n"
     ]
    }
   ],
   "source": [
    "SavFITSconvert.examine_fits('A000879.fits')"
   ]
  },
  {
   "cell_type": "code",
   "execution_count": 3,
   "id": "b431bc15-3f1b-4270-a1e4-f3c563abdb4a",
   "metadata": {
    "tags": []
   },
   "outputs": [
    {
     "name": "stdout",
     "output_type": "stream",
     "text": [
      "--------------------------------------------------\n",
      "Date: Wed Oct 15 16:26:58 2014\n",
      "User: harneyw\n",
      "Host: highsierra\n",
      "--------------------------------------------------\n",
      "Format: 10\n",
      "Architecture: x86_64\n",
      "Operating System: linux\n",
      "IDL Version: 8.1\n",
      "--------------------------------------------------\n",
      "Successfully read 4 records of which:\n",
      " - 1 are of type VARIABLE\n",
      " - 1 are of type VERSION\n",
      " - 1 are of type TIMESTAMP\n",
      "--------------------------------------------------\n",
      "Available variables:\n",
      " - lbwsrc [<class 'numpy.recarray'>]\n",
      "--------------------------------------------------\n",
      "{'AGC': 0, 'LBWSRCNAME': b'A161941.4+131458', 'CORFILE': b'corfile.13apr14.a2853.16', 'FILE': b'A161941.4+131458', 'HIRES': 0, 'RA': 244.92249669267994, 'DEC': 13.249443803161224, 'SPEC': array([ 0.72311014, -1.1804597 , -2.0894916 , ..., -2.1207078 ,\n",
      "       -1.2847297 , -2.670997  ], dtype=float32), 'RAW': array([-28.49746 , -30.640055, -33.96393 , ..., -31.8368  , -27.280685,\n",
      "       -32.331837], dtype=float32), 'FREQ': array([1366.5866404 , 1366.59884743, 1366.61105446, ..., 1391.5500193 ,\n",
      "       1391.56222633, 1391.57443336]), 'VEL': array([11822.18646606, 11819.40299401, 11816.61957168, ...,\n",
      "        6232.0500465 ,  6229.36554511,  6226.68109082]), 'NCHAN': 2048, 'BANDWIDTH': 24.98779296875, 'MASK': array([0, 0, 0, ..., 0, 0, 0], dtype=int16), 'BASELINE': array([-29.75665309, -29.75491428, -29.75317656, ..., -28.39739934,\n",
      "       -28.39777184, -28.39814531]), 'BLFIT': rec.array([(1, 2, array([-3.19131414e+01,  9.89701371e-04, -6.82861073e-08,  0.00000000e+00,\n",
      "                   0.00000000e+00,  0.00000000e+00,  0.00000000e+00,  0.00000000e+00,\n",
      "                   0.00000000e+00,  0.00000000e+00]))                                       ],\n",
      "          dtype=[(('fitflag', 'FITFLAG'), '>i2'), (('order', 'ORDER'), '>i2'), (('coef', 'COEF'), 'O')]), 'CONTINUUM': -30.403967, 'WINDOW': b'h', 'RMS': 1.17492, 'FITTYPE': b'P', 'FITEDGE': array([902, 959, 795, 877], dtype=int16), 'W50': 244.63782, 'W50ERR': 22.326916, 'W20': 319.116, 'W20ERR': 22.326916, 'VSYS': 9388.384, 'VSYSERR': 15.787514, 'FLUX': 0.9491216, 'FLUXERR': 0.07194637, 'COMMENTS': rec.array([(array([b'Right side of fit very sensitive to boundaries selected.', '',\n",
      "                  '', '', '', '', '', '', '', '', '', '', '', '', '', '', '', '', '',\n",
      "                  '', '', '', '', '', '', '', '', '', '', '', '', '', '', '', '', '',\n",
      "                  '', '', '', '', '', '', '', '', '', '', '', '', '', ''],\n",
      "                 dtype=object), 1)                                                   ],\n",
      "          dtype=[(('text', 'TEXT'), 'O'), (('count', 'COUNT'), '>i4')]), 'SN': 11.548799, 'YRANGE': array([-999, -999], dtype=int16)}\n",
      "('AGC', 0)\n",
      "('LBWSRCNAME', b'A161941.4+131458')\n",
      "('CORFILE', b'corfile.13apr14.a2853.16')\n",
      "('FILE', b'A161941.4+131458')\n",
      "('HIRES', 0)\n",
      "('RA', 244.92249669267994)\n",
      "('DEC', 13.249443803161224)\n",
      "('SPEC', array([ 0.72311014, -1.1804597 , -2.0894916 , ..., -2.1207078 ,\n",
      "       -1.2847297 , -2.670997  ], dtype=float32))\n",
      "('RAW', array([-28.49746 , -30.640055, -33.96393 , ..., -31.8368  , -27.280685,\n",
      "       -32.331837], dtype=float32))\n",
      "('FREQ', array([1366.5866404 , 1366.59884743, 1366.61105446, ..., 1391.5500193 ,\n",
      "       1391.56222633, 1391.57443336]))\n",
      "('VEL', array([11822.18646606, 11819.40299401, 11816.61957168, ...,\n",
      "        6232.0500465 ,  6229.36554511,  6226.68109082]))\n",
      "('NCHAN', 2048)\n",
      "('BANDWIDTH', 24.98779296875)\n",
      "('MASK', array([0, 0, 0, ..., 0, 0, 0], dtype=int16))\n",
      "('BASELINE', array([-29.75665309, -29.75491428, -29.75317656, ..., -28.39739934,\n",
      "       -28.39777184, -28.39814531]))\n",
      "('BLFIT', rec.array([(1, 2, array([-3.19131414e+01,  9.89701371e-04, -6.82861073e-08,  0.00000000e+00,\n",
      "                   0.00000000e+00,  0.00000000e+00,  0.00000000e+00,  0.00000000e+00,\n",
      "                   0.00000000e+00,  0.00000000e+00]))                                       ],\n",
      "          dtype=[(('fitflag', 'FITFLAG'), '>i2'), (('order', 'ORDER'), '>i2'), (('coef', 'COEF'), 'O')]))\n",
      "('CONTINUUM', -30.403967)\n",
      "('WINDOW', b'h')\n",
      "('RMS', 1.17492)\n",
      "('FITTYPE', b'P')\n",
      "('FITEDGE', array([902, 959, 795, 877], dtype=int16))\n",
      "('W50', 244.63782)\n",
      "('W50ERR', 22.326916)\n",
      "('W20', 319.116)\n",
      "('W20ERR', 22.326916)\n",
      "('VSYS', 9388.384)\n",
      "('VSYSERR', 15.787514)\n",
      "('FLUX', 0.9491216)\n",
      "('FLUXERR', 0.07194637)\n",
      "('COMMENTS', rec.array([(array([b'Right side of fit very sensitive to boundaries selected.', '',\n",
      "                  '', '', '', '', '', '', '', '', '', '', '', '', '', '', '', '', '',\n",
      "                  '', '', '', '', '', '', '', '', '', '', '', '', '', '', '', '', '',\n",
      "                  '', '', '', '', '', '', '', '', '', '', '', '', '', ''],\n",
      "                 dtype=object), 1)                                                   ],\n",
      "          dtype=[(('text', 'TEXT'), 'O'), (('count', 'COUNT'), '>i4')]))\n",
      "('SN', 11.548799)\n",
      "('YRANGE', array([-999, -999], dtype=int16))\n"
     ]
    }
   ],
   "source": [
    "# examine one from current conversion function:\n",
    "SavFITSconvert.examine_sav(\"A161941.4+131458.sav\")"
   ]
  },
  {
   "cell_type": "code",
   "execution_count": 4,
   "id": "8c12f91a-33e3-4e5e-a5f0-6539b88b4943",
   "metadata": {
    "tags": []
   },
   "outputs": [
    {
     "name": "stdout",
     "output_type": "stream",
     "text": [
      ">>>>>>>>>>>>>>>>>>>>> HEADER:  0 >>>>>>>>>>>>>>>>>>>>>>>>>>>\n",
      "SIMPLE  =                    T / conforms to FITS standard                      \n",
      "BITPIX  =                    8 / array data type                                \n",
      "NAXIS   =                    0 / number of array dimensions                     \n",
      "EXTEND  =                    T                                                  \n",
      "COMMENT FITS file from idl .sav made using SavFITSconvert.py                    \n",
      "HISTORY David Craig for APPSS                                                   \n",
      "HISTORY Generated 2023-07-28T15:31:09.858611 UTC                                \n",
      "<<<<<<<<<<<<<<<<<<<<<    END:  0 <<<<<<<<<<<<<<<<<<<<<<<<<<<\n",
      ">>>>>>>>>>>>>>>>>>>>> HEADER:  1 >>>>>>>>>>>>>>>>>>>>>>>>>>>\n",
      "XTENSION= 'BINTABLE'           / binary table extension                         \n",
      "BITPIX  =                    8 / array data type                                \n",
      "NAXIS   =                    2 / number of array dimensions                     \n",
      "NAXIS1  =                   32 / length of dimension 1                          \n",
      "NAXIS2  =                 2048 / length of dimension 2                          \n",
      "PCOUNT  =                    0 / number of group parameters                     \n",
      "GCOUNT  =                    1 / number of groups                               \n",
      "TFIELDS =                    4 / number of table fields                         \n",
      "TCUNI1  = 'km/s    '                                                            \n",
      "TCUNI2  = 'MHz     '                                                            \n",
      "TCUNI3  = 'mJy     '                                                            \n",
      "TCUNI4  = 'mJy     '                                                            \n",
      "TTYPE1  = 'VHELIO  '                                                            \n",
      "TFORM1  = 'D       '                                                            \n",
      "TTYPE2  = 'FREQUENCY'                                                           \n",
      "TFORM2  = 'D       '                                                            \n",
      "TTYPE3  = 'FLUX    '                                                            \n",
      "TFORM3  = 'D       '                                                            \n",
      "TTYPE4  = 'BASELINE'                                                            \n",
      "TFORM4  = 'D       '                                                            \n",
      "EXTNAME = 'Single Dish'        / APPSS Survey                                   \n",
      "OBSERVAT= 'Arecibo Observatory' / Designation of Observatory                    \n",
      "TELESCOP= 'Arecibo Radio Telescope' / Designation of Telescope                  \n",
      "INSTRUME= 'L-Band Wide'        / Instrument in use                              \n",
      "BACKEND = 'WAPPS   '           / Backend (Interim correllator or WAPPS)         \n",
      "BEAM    = '3.3     '           / Beam size [arcminutes]                         \n",
      "NANVALUE=               -999.0 / Value of missing/null data                     \n",
      "OBJECT  = 'UNASSIGNED  '       / Name of observed object                        \n",
      "NAME    = '        '           / Common name                                    \n",
      "HISRC   = 'A092457.4+113231'   / HI source name                                 \n",
      "ORIGIN  = 'SavFITSconvert.py conversion D Craig' / File creation location       \n",
      "RA      =    141.2391711178065 / Right ascension in degrees                     \n",
      "DEC     =    11.54138895171171 / Declination in degrees                         \n",
      "EQUINOX =               2000.0 / Epoch for coordinates (years)                  \n",
      "BW      =       24.98779296875 / Bandwidth [MHz]                                \n",
      "CHAN    =                 2048 / Number of spectral channels                    \n",
      "V21SYS  =    3629.439697265625 / systemic velocity [km/s]                       \n",
      "COMMENT Undergraduate ALFALFA Team (UAT)                                        \n",
      "COMMENT Last updated: 2023-07-28T15:31:09.858611 UTC (SavFITSconvert)           \n",
      "COMMENT Strong absorption at 2500 km/s. Detection is weak, appears horned but co\n",
      "COMMENT uld be gaussian.                                                        \n",
      "COMMENT WARNING! Converted by early version of SavFITSconvert.py                \n",
      "<<<<<<<<<<<<<<<<<<<<<    END:  1 <<<<<<<<<<<<<<<<<<<<<<<<<<<\n"
     ]
    }
   ],
   "source": [
    "# I just converted a file with the new shorter tags. Take a look:\n",
    "SavFITSconvert.examine_fits('A092457.4+113231.fits')"
   ]
  },
  {
   "cell_type": "code",
   "execution_count": null,
   "id": "4a9ad883-6f7d-441a-a5a5-da55aefbde98",
   "metadata": {},
   "outputs": [],
   "source": []
  },
  {
   "cell_type": "code",
   "execution_count": null,
   "id": "60d06cf6-e667-4e12-8e33-17ab6e6b311e",
   "metadata": {},
   "outputs": [],
   "source": []
  }
 ],
 "metadata": {
  "kernelspec": {
   "display_name": "Python 3 (ipykernel)",
   "language": "python",
   "name": "python3"
  },
  "language_info": {
   "codemirror_mode": {
    "name": "ipython",
    "version": 3
   },
   "file_extension": ".py",
   "mimetype": "text/x-python",
   "name": "python",
   "nbconvert_exporter": "python",
   "pygments_lexer": "ipython3",
   "version": "3.11.3"
  }
 },
 "nbformat": 4,
 "nbformat_minor": 5
}
