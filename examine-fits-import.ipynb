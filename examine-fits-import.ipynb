{
 "cells": [
  {
   "cell_type": "markdown",
   "id": "d3c67a75-b6c0-49e2-a233-94e6268f970d",
   "metadata": {},
   "source": [
    "# Examining fits files\n",
    "\n",
    "Also testing out import of SavFITSconvert to a notebook."
   ]
  },
  {
   "cell_type": "code",
   "execution_count": 1,
   "id": "b7dcac21-1f30-4820-b0e8-420f3df4e8f7",
   "metadata": {
    "tags": []
   },
   "outputs": [],
   "source": [
    "# import\n",
    "import SavFITSconvert"
   ]
  },
  {
   "cell_type": "code",
   "execution_count": 2,
   "id": "b70a67e6-e314-4ff5-a176-4b770d4639a7",
   "metadata": {
    "tags": []
   },
   "outputs": [
    {
     "name": "stdout",
     "output_type": "stream",
     "text": [
      ">>>>>>>>>>>>>>>>>>>>> HEADER:  0 >>>>>>>>>>>>>>>>>>>>>>>>>>>\n",
      "SIMPLE  =                    T /Written by IDL:  Mon Feb 28 11:32:36 2022       \n",
      "BITPIX  =                    8 /                                                \n",
      "NAXIS   =                    0 /                                                \n",
      "EXTEND  =                    T /File contains extensions                        \n",
      "<<<<<<<<<<<<<<<<<<<<<    END:  0 <<<<<<<<<<<<<<<<<<<<<<<<<<<\n",
      ">>>>>>>>>>>>>>>>>>>>> HEADER:  1 >>>>>>>>>>>>>>>>>>>>>>>>>>>\n",
      "XTENSION= 'BINTABLE'           /Written by IDL:  Mon Feb 28 11:32:36 2022       \n",
      "BITPIX  =                    8 /                                                \n",
      "NAXIS   =                    2 /Binary table                                    \n",
      "NAXIS1  =                   30 /Number of bytes per row                         \n",
      "NAXIS2  =                 2048 /Number of rows                                  \n",
      "PCOUNT  =                    0 /Random parameter count                          \n",
      "GCOUNT  =                    1 /Group count                                     \n",
      "TFIELDS =                    5 /Number of columns                               \n",
      "EXTNAME = 'Single Dish'        /APPSS Survey                                    \n",
      "OBSERVAT= 'Arecibo Observatory' /Designation of Observatory                     \n",
      "TELESCOP= 'Arecibo Radio Telescope' /Designation of Telescope                   \n",
      "INSTRUME= 'L-Band Wide'        /Instrument in use                               \n",
      "BACKEND = 'WAPPS   '           /Backend (Interim Correlator or WAPPS)           \n",
      "BEAM    = '3.3     '           /Beam size [arcminutes]                          \n",
      "NANVALUE=             -999.000 /Value of missing/null data                      \n",
      "OBJECT  = 'AGC 879 '           /Name of observed object                         \n",
      "NAME    = '        '           /Common name                                     \n",
      "HISRC   = 'S012059.8+341455'   /HI source name                                  \n",
      "ORIGIN  = 'Cornell University' /File creation location                          \n",
      "RA      =            20.249166 /Right Ascension in degrees                      \n",
      "DEC     =            34.248611 /Declination in degrees                          \n",
      "EQUINOX =              2000.00 /Epoc for coordinates (years)                    \n",
      "RESTFRQ =          1.40406E+09 /Rest Frequency [Hz]                             \n",
      "BW      =            24.987793 /Bandwidth [MHz]                                 \n",
      "CHAN    =                 2048 /Number of spectral channels                     \n",
      "V21SYS  =              5122.24 /Systemic heliocentric velocity [km/s] (prelimina\n",
      "TFORM1  = '1D      '           /Real*8 (double precision)                       \n",
      "TTYPE1  = 'VHELIO  '           /Label for column 1                              \n",
      "TUNIT1  = 'km/s    '           /Units of column 1                               \n",
      "TFORM2  = '1D      '           /Real*8 (double precision)                       \n",
      "TTYPE2  = 'FREQUENCY'          /Label for column 2                              \n",
      "TUNIT2  = 'MHz     '           /Units of column 2                               \n",
      "TFORM3  = '1E      '           /Real*4 (floating point)                         \n",
      "TTYPE3  = 'FLUX    '           /Label for column 3                              \n",
      "TUNIT3  = 'mJy     '           /Units of column 3                               \n",
      "TFORM4  = '1D      '           /Real*8 (double precision)                       \n",
      "TTYPE4  = 'BASELINE'           /Label for column 4                              \n",
      "TUNIT4  = 'mJy     '           /Units of column 4                               \n",
      "TFORM5  = '1I      '           /Integer*2 (short integer)                       \n",
      "TTYPE5  = 'WEIGHT  '           /Label for column 5                              \n",
      "TUNIT5  = '        '           /Units of column 5                               \n",
      "COMMENT                                                                         \n",
      "COMMENT Arecibo Pisces-Perseus Supercluster Survey (APPSS)                      \n",
      "COMMENT Undergraduate ALFALFA Team (UAT)                                        \n",
      "COMMENT Last updated: Mon Feb 28 11:32:36 2022 by GLH/MPH                       \n",
      "COMMENT This spectrum has been baselined.                                       \n",
      "<<<<<<<<<<<<<<<<<<<<<    END:  1 <<<<<<<<<<<<<<<<<<<<<<<<<<<\n"
     ]
    }
   ],
   "source": [
    "SavFITSconvert.examine_fits('A000879.fits')"
   ]
  },
  {
   "cell_type": "code",
   "execution_count": null,
   "id": "8c12f91a-33e3-4e5e-a5f0-6539b88b4943",
   "metadata": {},
   "outputs": [],
   "source": []
  }
 ],
 "metadata": {
  "kernelspec": {
   "display_name": "Python 3 (ipykernel)",
   "language": "python",
   "name": "python3"
  },
  "language_info": {
   "codemirror_mode": {
    "name": "ipython",
    "version": 3
   },
   "file_extension": ".py",
   "mimetype": "text/x-python",
   "name": "python",
   "nbconvert_exporter": "python",
   "pygments_lexer": "ipython3",
   "version": "3.11.3"
  }
 },
 "nbformat": 4,
 "nbformat_minor": 5
}
