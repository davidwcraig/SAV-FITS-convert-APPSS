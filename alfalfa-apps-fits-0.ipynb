{
 "cells": [
  {
   "cell_type": "markdown",
   "metadata": {},
   "source": [
    "# Converting .sav to .fits"
   ]
  },
  {
   "cell_type": "code",
   "execution_count": null,
   "metadata": {},
   "outputs": [],
   "source": [
    "import numpy as np\n",
    "import matplotlib.pyplot as plt\n",
    "from sav_manip import sav_dict\n",
    "from astropy.io import fits\n",
    "import datetime"
   ]
  },
  {
   "cell_type": "markdown",
   "metadata": {},
   "source": [
    "`astropy.io.fits` is pretty simple to open a FITS file:"
   ]
  },
  {
   "cell_type": "code",
   "execution_count": 2,
   "metadata": {},
   "outputs": [],
   "source": [
    "hd = fits.open('A000001.fits')"
   ]
  },
  {
   "cell_type": "markdown",
   "metadata": {},
   "source": [
    "List the header/data units:"
   ]
  },
  {
   "cell_type": "code",
   "execution_count": 4,
   "metadata": {},
   "outputs": [
    {
     "name": "stdout",
     "output_type": "stream",
     "text": [
      "Filename: A000001.fits\n",
      "No.    Name      Ver    Type      Cards   Dimensions   Format\n",
      "  0  PRIMARY       1 PrimaryHDU       5   ()      \n",
      "  1  Single Dish    1 BinTableHDU     55   1024R x 5C   [1D, 1D, 1D, 1D, 1E]   \n"
     ]
    }
   ],
   "source": [
    "hd.info()"
   ]
  },
  {
   "cell_type": "markdown",
   "metadata": {},
   "source": [
    "Since this is a binary table file the first hdu is simple:"
   ]
  },
  {
   "cell_type": "code",
   "execution_count": 6,
   "metadata": {},
   "outputs": [
    {
     "data": {
      "text/plain": [
       "SIMPLE  =                    T /Written by IDL:  Tue Mar 13 21:43:39 2018       \n",
       "BITPIX  =                    8 /                                                \n",
       "NAXIS   =                    0 /                                                \n",
       "EXTEND  =                    T /File contains extensions                        \n",
       "HISTORY Spectrum from ALFALFA src file 2018                                     "
      ]
     },
     "execution_count": 6,
     "metadata": {},
     "output_type": "execute_result"
    }
   ],
   "source": [
    "hd[0].header"
   ]
  },
  {
   "cell_type": "markdown",
   "metadata": {},
   "source": [
    "The second hdu has most of the metadata, and the data:"
   ]
  },
  {
   "cell_type": "code",
   "execution_count": 7,
   "metadata": {},
   "outputs": [
    {
     "data": {
      "text/plain": [
       "XTENSION= 'BINTABLE'           /Written by IDL:  Tue Mar 13 21:43:39 2018       \n",
       "BITPIX  =                    8 /                                                \n",
       "NAXIS   =                    2 /Binary table                                    \n",
       "NAXIS1  =                   36 /Number of bytes per row                         \n",
       "NAXIS2  =                 1024 /Number of rows                                  \n",
       "PCOUNT  =                    0 /Random parameter count                          \n",
       "GCOUNT  =                    1 /Group count                                     \n",
       "TFIELDS =                    5 /Number of columns                               \n",
       "EXTNAME = 'Single Dish'        /ALFALFA Survey                                  \n",
       "OBSERVAT= 'Arecibo Observatory' /Designation of Observatory                     \n",
       "TELESCOP= 'Arecibo Radio Telescope' /Designation of Telescope                   \n",
       "INSTRUME= 'ALFA L-band Feed Array' /Instrument in use                           \n",
       "BEAM    = '3.3x3.8 '           /Beam size [arcminutes]                          \n",
       "NANVALUE=             -999.000 /Value of missing/null data                      \n",
       "OBJECT  = 'AGC 1   '           /Name of observed object                         \n",
       "NAME    = 'I5378a..'           /Common name                                     \n",
       "HISRC   = 'HI000235.9+163853'  /HI source name                                  \n",
       "GRIDNAME= '0004+17b'           /ALFALFA grid designation                        \n",
       "ORIGIN  = 'Cornell University' /File creation location                          \n",
       "RA      =             0.656670 /Right Ascension in degrees                      \n",
       "DEC     =              16.6522 /Declination in degrees                          \n",
       "HIRA    =             0.649580 /Right Ascension of HI centroid in degrees       \n",
       "HIDEC   =              16.6483 /Declination of HI centroid in degrees           \n",
       "OCRA    =             0.656670 /Right Ascension of OC in degrees                \n",
       "OCDEC   =              16.6522 /Declination of OC in degrees                    \n",
       "EQUINOX =              2000.00 /Epoch for coordinates (years)                   \n",
       "RESTFRQ =        1.4204058E+09 /Rest Freqeuncy [Hz]                             \n",
       "BW      =            24.975586 /Bandwidth [MHz]                                 \n",
       "CHAN    =                 1024 /Number of spectral channels                     \n",
       "V21SYS  =                 5839 /Systemic heliocentric velocity [km/s]           \n",
       "DETCODE =                    1 /Detection category code                         \n",
       "CATEGORY= 'highSNR '           /Detection category                              \n",
       "TFORM1  = '1D      '           /Real*8 (double precision)                       \n",
       "TTYPE1  = 'VHELIO  '           /Label for column 1                              \n",
       "TUNIT1  = 'km/s    '           /Units of column 1                               \n",
       "TFORM2  = '1D      '           /Real*8 (double precision)                       \n",
       "TTYPE2  = 'FREQUENCY'          /Label for column 2                              \n",
       "TUNIT2  = 'MHz     '           /Units of column 2                               \n",
       "TFORM3  = '1D      '           /Real*8 (double precision)                       \n",
       "TTYPE3  = 'FLUX    '           /Label for column 3                              \n",
       "TUNIT3  = 'mJy     '           /Units of column 3                               \n",
       "TFORM4  = '1D      '           /Real*8 (double precision)                       \n",
       "TTYPE4  = 'BASELINE'           /Label for column 4                              \n",
       "TUNIT4  = 'mJy     '           /Units of column 4                               \n",
       "TFORM5  = '1E      '           /Real*4 (floating point)                         \n",
       "TTYPE5  = 'WEIGHT  '           /Label for column 5                              \n",
       "TUNIT5  = '        '           /Units of column 5                               \n",
       "COMMENT                                                                         \n",
       "COMMENT Arecibo Legacy Fast ALFA Survey                                         \n",
       "COMMENT Cornell University                                                      \n",
       "COMMENT http://egg.astro.cornell.edu/alfalfa/                                   \n",
       "COMMENT Data from ALFALFA Survey                                                \n",
       "COMMENT Last updated: Tue Mar 13 21:43:39 2018  M.P. Haynes                     \n",
       "COMMENT ALFALFA archive at http://egg.astro.cornell.edu/alfalfa/data            \n",
       "COMMENT This spectrum has been baselined.                                       "
      ]
     },
     "execution_count": 7,
     "metadata": {},
     "output_type": "execute_result"
    }
   ],
   "source": [
    "hd[1].header"
   ]
  },
  {
   "cell_type": "markdown",
   "metadata": {},
   "source": [
    "The astropy fits routines bring in useful methods for examining HDUs. You cand address the table columns with keynames:"
   ]
  },
  {
   "cell_type": "code",
   "execution_count": 6,
   "metadata": {},
   "outputs": [
    {
     "data": {
      "text/plain": [
       "array([7956.75513663, 7951.32521979, 7945.89549456, ..., 2510.81970251,\n",
       "       2505.58025946, 2500.34099803])"
      ]
     },
     "execution_count": 6,
     "metadata": {},
     "output_type": "execute_result"
    }
   ],
   "source": [
    "hd[1].data['VHELIO']"
   ]
  },
  {
   "cell_type": "markdown",
   "metadata": {},
   "source": [
    "The following lists the columns of the bintable. It is the UAT standard to put spectral data as column vectors, not as row vectors within a column."
   ]
  },
  {
   "cell_type": "code",
   "execution_count": 7,
   "metadata": {},
   "outputs": [
    {
     "data": {
      "text/plain": [
       "ColDefs(\n",
       "    name = 'VHELIO'; format = '1D'; unit = 'km/s'\n",
       "    name = 'FREQUENCY'; format = '1D'; unit = 'MHz'\n",
       "    name = 'FLUX'; format = '1D'; unit = 'mJy'\n",
       "    name = 'BASELINE'; format = '1D'; unit = 'mJy'\n",
       "    name = 'WEIGHT'; format = '1E'\n",
       ")"
      ]
     },
     "execution_count": 7,
     "metadata": {},
     "output_type": "execute_result"
    }
   ],
   "source": [
    "hd[1].columns"
   ]
  },
  {
   "cell_type": "markdown",
   "metadata": {},
   "source": [
    "## Data conversion"
   ]
  },
  {
   "cell_type": "markdown",
   "metadata": {},
   "source": [
    "The `sav_manip.sav_dict` function opens the LBW data structure from IDL and puts the elements in a python dictionary. Most of its elements are reduced to scalars or simple arrays keyed by their keywords. A few are more nested structures that need a little more manipulation to be placed in the FITS HDUs.\n",
    "\n",
    "It unpacks the `lbwsrc` variable in the idl structure."
   ]
  },
  {
   "cell_type": "code",
   "execution_count": 33,
   "metadata": {},
   "outputs": [
    {
     "name": "stdout",
     "output_type": "stream",
     "text": [
      "--------------------------------------------------\n",
      "Date: Mon Dec  3 12:43:54 2018\n",
      "User: a2010\n",
      "Host: galfas1.naic.edu\n",
      "--------------------------------------------------\n",
      "Format: 9\n",
      "Architecture: x86_64\n",
      "Operating System: linux\n",
      "IDL Version: 7.1\n",
      "--------------------------------------------------\n",
      "Successfully read 5 records of which:\n",
      " - 1 are of type VERSION\n",
      " - 1 are of type TIMESTAMP\n",
      " - 1 are of type NOTICE\n",
      " - 1 are of type VARIABLE\n",
      "--------------------------------------------------\n",
      "Available variables:\n",
      " - lbwsrc [<class 'numpy.recarray'>]\n",
      "--------------------------------------------------\n"
     ]
    }
   ],
   "source": [
    "# get some APPSS data:\n",
    "appssd = sav_dict('S000018.4+273720.sav')"
   ]
  },
  {
   "cell_type": "code",
   "execution_count": 34,
   "metadata": {},
   "outputs": [
    {
     "name": "stdout",
     "output_type": "stream",
     "text": [
      "('AGC', 0)\n",
      "('LBWSRCNAME', b'S000018.4+273720')\n",
      "('CORFILE', '')\n",
      "('FILE', b'S000018.4+273720')\n",
      "('HIRES', 0)\n",
      "('RA', 0.07666686706532444)\n",
      "('DEC', 27.622222409049655)\n",
      "('BOARD', 3)\n",
      "('SPEC', array([ 0.96925426,  0.24481145,  0.04342056, ...,  0.61296   ,\n",
      "        0.16968232, -0.10034379], dtype=float32))\n",
      "('RAW', array([-1.7264147, -3.0506778, -3.304659 , ..., -2.0318284, -2.575946 ,\n",
      "       -2.845447 ], dtype=float32))\n",
      "('FREQ', array([1362.8078669 , 1362.82007393, 1362.83228096, ..., 1387.77124581,\n",
      "       1387.78345284, 1387.79565987]))\n",
      "('VEL', array([12648.92478552, 12646.12619031, 12643.32764524, ...,\n",
      "        7028.6954804 ,  7025.99666208,  7023.29789124]))\n",
      "('NCHAN', 2048)\n",
      "('BANDWIDTH', 24.98779296875)\n",
      "('MASK', array([0, 0, 0, ..., 0, 0, 0], dtype=int16))\n",
      "('BASELINE', array([-3.02633962, -3.02791991, -3.02949547, ..., -2.67597079,\n",
      "       -2.67697328, -2.67797962]))\n",
      "('BLFIT', rec.array([(1, 3, array([-3.00770900e+01,  9.08550641e-03, -9.74057762e-07,  3.35875993e-11,\n",
      "        0.00000000e+00,  0.00000000e+00,  0.00000000e+00,  0.00000000e+00,\n",
      "        0.00000000e+00,  0.00000000e+00]))],\n",
      "          dtype=[(('fitflag', 'FITFLAG'), '>i2'), (('order', 'ORDER'), '>i2'), (('coef', 'COEF'), 'O')]))\n",
      "('CONTINUUM', -2.848356)\n",
      "('WINDOW', b'h')\n",
      "('RMS', 0.75527924)\n",
      "('FITTYPE', b'P')\n",
      "('FITEDGE', array([318, 336, 299, 310], dtype=int16))\n",
      "('W50', 90.33221)\n",
      "('W50ERR', 14.798607)\n",
      "('W20', 117.68803)\n",
      "('W20ERR', 14.798607)\n",
      "('VSYS', 11767.54)\n",
      "('VSYSERR', 10.464195)\n",
      "('FLUX', 0.25991428)\n",
      "('FLUXERR', 0.040189065)\n",
      "('COMMENTS', rec.array([(array([b'coadd ok; feat @7800 in one pol of 20181118.a3173.0003; confused w/ 104807 @ 1.25; high incl spiral disk',\n",
      "       b'base wave ok', b'lbwmeasure,lbwsrc',\n",
      "       b\"low snr; likely conf w 104807@1.2'; confused\", '', '', '', '',\n",
      "       '', '', '', '', '', '', '', '', '', '', '', '', '', '', '', '', '',\n",
      "       '', '', '', '', '', '', '', '', '', '', '', '', '', '', '', '', '',\n",
      "       '', '', '', '', '', '', '', ''], dtype=object), 4)],\n",
      "          dtype=[(('text', 'TEXT'), 'O'), (('count', 'COUNT'), '>i4')]))\n",
      "('SN', 6.0571914)\n",
      "('YRANGE', array([-999, -999], dtype=int16))\n"
     ]
    }
   ],
   "source": [
    "for thing in appssd.items():\n",
    "    print(thing)"
   ]
  },
  {
   "cell_type": "markdown",
   "metadata": {},
   "source": [
    "### Assemble parts of FITS file\n",
    "\n",
    "Now make the astropy data structure for a new fits file."
   ]
  },
  {
   "cell_type": "code",
   "execution_count": 78,
   "metadata": {},
   "outputs": [],
   "source": [
    "tstamp = datetime.datetime.utcnow()\n",
    "t_str = tstamp.isoformat() + ' UTC'\n",
    "#This makes the first (primary) HDU, which is not very complicated.\n",
    "hdr = fits.Header()\n",
    "hdr['COMMENT'] = 'TEST .FITS file from idl .sav made using python'\n",
    "hdr['HISTORY'] = 'David Craig for APPSS'\n",
    "hdr['HISTORY'] = 'Generated ' + t_str\n",
    "primary_hdu = fits.PrimaryHDU(header=hdr)\n"
   ]
  },
  {
   "cell_type": "code",
   "execution_count": 79,
   "metadata": {},
   "outputs": [
    {
     "data": {
      "text/plain": [
       "'2019-08-10T16:02:10.990036 UTC'"
      ]
     },
     "execution_count": 79,
     "metadata": {},
     "output_type": "execute_result"
    }
   ],
   "source": [
    "t_str # check the format of the time string"
   ]
  },
  {
   "cell_type": "code",
   "execution_count": 80,
   "metadata": {},
   "outputs": [],
   "source": [
    "# This makes the binary table hdu:\n",
    "col1 = fits.Column(name='VHELIO', format='D', array=appssd['VEL'], coord_unit='km/s')\n",
    "col2 = fits.Column(name='FREQUENCY', format='D', array=appssd['FREQ'], coord_unit='MHz')\n",
    "col3 = fits.Column(name='FLUX', format='D', array=appssd['SPEC'], coord_unit='mJy')\n",
    "col4 = fits.Column(name='BASELINE', format='D', array=appssd['BASELINE'], coord_unit='mJy')\n",
    "cols = fits.ColDefs([col1,col2,col3,col4])\n",
    "hdu = fits.BinTableHDU.from_columns(cols)"
   ]
  },
  {
   "cell_type": "code",
   "execution_count": 81,
   "metadata": {},
   "outputs": [],
   "source": [
    "# Now put in various keywords\n",
    "hdr = hdu.header\n",
    "     \n",
    "hdr.set('EXTNAME', 'Single Dish', 'APPSS Survey')\n",
    "hdr.set('OBSERVAT', 'Arecibo Observatory','Designation of Observatory')\n",
    "hdr.set('TELESCOP','Arecibo Radio Telescope','Designation of Telescope')\n",
    "hdr.set('INSTRUME','LBW receiver','Instrument in use')\n",
    "hdr.set('BEAM','3.3x3.8 ', 'Beam size [arcminutes] REVISE FOR LBW?')  #TODO                      \n",
    "hdr.set('NANVALUE',-999.000,'Value of missing/null data')                     \n",
    "hdr.set('OBJECT' , 'UNASSIGNED  ', 'Name of observed object')  #TODO NEEDS IMPORT if found               \n",
    "hdr.set( 'NAME'    , ' ' ,'Common name' )   #TODO NEEDS IMPORT if found \n",
    "#appss idl text data is still in bytes, does it work? NOPE! So it must be decoded:                      \n",
    "hdr.set('HISRC ', appssd['LBWSRCNAME'].decode('ascii'), 'HI source name')    \n",
    "hdr.set('ORIGIN', 'WTAMU via SciServer', 'File creation location') #TODO: software id instead?\n",
    "hdr.set('RA', appssd['RA'],'Right ascension in degrees')\n",
    "hdr.set('DEC', appssd['DEC'], 'Declination in degrees')\n",
    "hdr.set('EPOCH',2000.0,'Epoch for coordinates (years)')\n",
    "hdr.set('CHAN', appssd['NCHAN'], 'Number of spectral channels')\n",
    "hdr.set('BW', appssd['BANDWIDTH'],'Bandwidth [MHz]')\n"
   ]
  },
  {
   "cell_type": "markdown",
   "metadata": {},
   "source": [
    "The following are APPSS style data, which are a little different from what I see in Martha's reduced ALFALFA FITS files:\n",
    "  \n",
    "     'MASK',     # mask doesnt appear in the ALFALFA files, should it here?\n",
    "     'BASELINE', # baseline doesnt appear in the ALFALFA files, should it here?\n",
    "     'BLFIT',    # and the polynomial?\n",
    "     'CONTINUUM',\n",
    "     'WINDOW',\n",
    "     'RMS',\n",
    "     'FITTYPE',\n",
    "     'FITEDGE',\n",
    "     'W50',\n",
    "     'W50ERR',\n",
    "     'W20',\n",
    "     'W20ERR',\n",
    "     'VSYS',\n",
    "     'VSYSERR',\n",
    "     'FLUX',\n",
    "     'FLUXERR',\n",
    "     'COMMENTS',\n",
    "     'SN',"
   ]
  },
  {
   "cell_type": "code",
   "execution_count": 82,
   "metadata": {},
   "outputs": [],
   "source": [
    "hdr.set('WINDOW', appssd['WINDOW'].decode('ascii'), 'h for Hamming(?)')\n",
    "hdr.set('FITTYPE', appssd['FITTYPE'].decode('ascii'), 'P for polynomial')\n",
    "hdr.set('RMS', appssd['RMS'], 'RMS of spectrum (noise)')\n",
    "hdr.set('W50', appssd['W50'], 'estimated velocity width at 50%')\n",
    "hdr.set('W50ERR', appssd['W50ERR'], 'error in W50')\n",
    "hdr.set('W20', appssd['W20'], 'estimated velocity width at 20%')\n",
    "hdr.set('W20ERR', appssd['W20ERR'], 'error in W20')\n",
    "hdr.set('VSYS', appssd['VSYS'], 'systemic velocity [km/s]')\n",
    "hdr.set('VSYSERR',appssd['VSYSERR'], 'error in Vsys [km/s]')\n",
    "hdr.set('FLUX', appssd['FLUX'], 'integrated flux [Jy km/s]')\n",
    "hdr.set('FLUXERR', appssd['FLUXERR'], 'error in integrated flux')\n",
    "hdr.set('SN',appssd['SN'],'estimated signal-to-noise ratio')"
   ]
  },
  {
   "cell_type": "code",
   "execution_count": 83,
   "metadata": {},
   "outputs": [],
   "source": [
    "# now all comments from the sav structure that are in the dict\n",
    "# this will insert a new comment for each of those lines.\n",
    "for line in range(appssd['COMMENTS'].COUNT[0]):\n",
    "     hdr.set('COMMENT',appssd['COMMENTS'].TEXT[0][line].decode('ascii'))"
   ]
  },
  {
   "cell_type": "code",
   "execution_count": 84,
   "metadata": {},
   "outputs": [],
   "source": [
    "#comments for test file\n",
    "hdr.set('COMMENT', 'WARNING! This is a test file from development software!')"
   ]
  },
  {
   "cell_type": "code",
   "execution_count": 85,
   "metadata": {},
   "outputs": [],
   "source": [
    "hdu_lst = fits.HDUList([primary_hdu, hdu])\n",
    "hdu_lst.writeto('APPSS_test_tab.fits', overwrite = True)"
   ]
  },
  {
   "cell_type": "markdown",
   "metadata": {},
   "source": [
    "### Read the file back for examination"
   ]
  },
  {
   "cell_type": "code",
   "execution_count": 86,
   "metadata": {},
   "outputs": [],
   "source": [
    "hdtest = fits.open('APPSS_test_tab.fits')"
   ]
  },
  {
   "cell_type": "code",
   "execution_count": 87,
   "metadata": {},
   "outputs": [
    {
     "data": {
      "text/plain": [
       "SIMPLE  =                    T / conforms to FITS standard                      \n",
       "BITPIX  =                    8 / array data type                                \n",
       "NAXIS   =                    0 / number of array dimensions                     \n",
       "EXTEND  =                    T                                                  \n",
       "COMMENT TEST .FITS file from idl .sav made using python                         \n",
       "HISTORY David Craig for APPSS                                                   \n",
       "HISTORY Generated 2019-08-10T16:02:10.990036 UTC                                "
      ]
     },
     "execution_count": 87,
     "metadata": {},
     "output_type": "execute_result"
    }
   ],
   "source": [
    "hdtest[0].header"
   ]
  },
  {
   "cell_type": "code",
   "execution_count": 88,
   "metadata": {},
   "outputs": [
    {
     "data": {
      "text/plain": [
       "XTENSION= 'BINTABLE'           / binary table extension                         \n",
       "BITPIX  =                    8 / array data type                                \n",
       "NAXIS   =                    2 / number of array dimensions                     \n",
       "NAXIS1  =                   32 / length of dimension 1                          \n",
       "NAXIS2  =                 2048 / length of dimension 2                          \n",
       "PCOUNT  =                    0 / number of group parameters                     \n",
       "GCOUNT  =                    1 / number of groups                               \n",
       "TFIELDS =                    4 / number of table fields                         \n",
       "TCUNI1  = 'km/s    '                                                            \n",
       "TCUNI2  = 'MHz     '                                                            \n",
       "TCUNI3  = 'mJy     '                                                            \n",
       "TCUNI4  = 'mJy     '                                                            \n",
       "TTYPE1  = 'VHELIO  '                                                            \n",
       "TFORM1  = 'D       '                                                            \n",
       "TTYPE2  = 'FREQUENCY'                                                           \n",
       "TFORM2  = 'D       '                                                            \n",
       "TTYPE3  = 'FLUX    '                                                            \n",
       "TFORM3  = 'D       '                                                            \n",
       "TTYPE4  = 'BASELINE'                                                            \n",
       "TFORM4  = 'D       '                                                            \n",
       "EXTNAME = 'Single Dish'        / APPSS Survey                                   \n",
       "OBSERVAT= 'Arecibo Observatory' / Designation of Observatory                    \n",
       "TELESCOP= 'Arecibo Radio Telescope' / Designation of Telescope                  \n",
       "INSTRUME= 'LBW receiver'       / Instrument in use                              \n",
       "BEAM    = '3.3x3.8 '           / Beam size [arcminutes] REVISE FOR LBW?         \n",
       "NANVALUE=               -999.0 / Value of missing/null data                     \n",
       "OBJECT  = 'UNASSIGNED  '       / Name of observed object                        \n",
       "NAME    = '' / Common name                                                      \n",
       "HISRC   = 'S000018.4+273720'   / HI source name                                 \n",
       "ORIGIN  = 'WTAMU via SciServer' / File creation location                        \n",
       "RA      =  0.07666686706532444 / Right ascension in degrees                     \n",
       "DEC     =    27.62222240904966 / Declination in degrees                         \n",
       "EPOCH   =               2000.0 / Epoch for coordinates (years)                  \n",
       "CHAN    =                 2048 / Number of spectral channels                    \n",
       "BW      =       24.98779296875 / Bandwidth [MHz]                                \n",
       "WINDOW  = 'h       '           / h for Hamming(?)                               \n",
       "FITTYPE = 'P       '           / P for polynomial                               \n",
       "RMS     =   0.7552792429924011 / RMS of spectrum (noise)                        \n",
       "W50     =    90.33220672607422 / estimated velocity width at 50%                \n",
       "W50ERR  =    14.79860687255859 / error in W50                                   \n",
       "W20     =    117.6880264282227 / estimated velocity width at 20%                \n",
       "W20ERR  =    14.79860687255859 / error in W20                                   \n",
       "VSYS    =     11767.5400390625 / systemic velocity [km/s]                       \n",
       "VSYSERR =    10.46419525146484 / error in Vsys [km/s]                           \n",
       "FLUX    =   0.2599142789840698 / integrated flux [Jy km/s]                      \n",
       "FLUXERR =  0.04018906503915787 / error in integrated flux                       \n",
       "SN      =    6.057191371917725 / estimated signal-to-noise ratio                \n",
       "COMMENT coadd ok; feat @7800 in one pol of 20181118.a3173.0003; confused w/ 1048\n",
       "COMMENT 07 @ 1.25; high incl spiral disk                                        \n",
       "COMMENT base wave ok                                                            \n",
       "COMMENT lbwmeasure,lbwsrc                                                       \n",
       "COMMENT low snr; likely conf w 104807@1.2'; confused                            \n",
       "COMMENT WARNING! This is a test file from development software!                 "
      ]
     },
     "execution_count": 88,
     "metadata": {},
     "output_type": "execute_result"
    }
   ],
   "source": [
    "hdtest[1].header"
   ]
  },
  {
   "cell_type": "code",
   "execution_count": null,
   "metadata": {},
   "outputs": [],
   "source": []
  },
  {
   "cell_type": "code",
   "execution_count": null,
   "metadata": {},
   "outputs": [],
   "source": []
  },
  {
   "cell_type": "code",
   "execution_count": null,
   "metadata": {},
   "outputs": [],
   "source": []
  }
 ],
 "metadata": {
  "kernelspec": {
   "display_name": "Python 3.8 (py38)",
   "language": "python",
   "name": "py38"
  },
  "language_info": {
   "codemirror_mode": {
    "name": "ipython",
    "version": 3
   },
   "file_extension": ".py",
   "mimetype": "text/x-python",
   "name": "python",
   "nbconvert_exporter": "python",
   "pygments_lexer": "ipython3",
   "version": "3.8.5"
  }
 },
 "nbformat": 4,
 "nbformat_minor": 4
}
