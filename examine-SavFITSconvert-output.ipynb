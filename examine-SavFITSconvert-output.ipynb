{
 "cells": [
  {
   "cell_type": "code",
   "execution_count": 54,
   "id": "8ce4c32f",
   "metadata": {},
   "outputs": [],
   "source": [
    "import numpy as np\n",
    "import matplotlib.pyplot as plt\n",
    "from astropy.table import Table\n",
    "from astropy.io import fits"
   ]
  },
  {
   "cell_type": "code",
   "execution_count": 64,
   "id": "7131efad",
   "metadata": {},
   "outputs": [],
   "source": [
    "testing_file = \"A092457.4+113231.fits\"  # change for file of interest.\n",
    "testdat = Table.read(testing_file)"
   ]
  },
  {
   "cell_type": "code",
   "execution_count": 60,
   "id": "76ff0f88",
   "metadata": {},
   "outputs": [
    {
     "data": {
      "text/plain": [
       "OrderedDict([('EXTNAME', 'Single Dish'),\n",
       "             ('OBSERVAT', 'Arecibo Observatory'),\n",
       "             ('TELESCOP', 'Arecibo Radio Telescope'),\n",
       "             ('INSTRUME', 'LBW receiver'),\n",
       "             ('BEAM', '3.3x3.8'),\n",
       "             ('NANVALUE', -999.0),\n",
       "             ('OBJECT', 'UNASSIGNED'),\n",
       "             ('NAME', ''),\n",
       "             ('HISRC', 'A092457.4+113231'),\n",
       "             ('ORIGIN', 'SavFITSconvert.py conversion D Craig'),\n",
       "             ('RA', 141.2391711178065),\n",
       "             ('DEC', 11.54138895171171),\n",
       "             ('EPOCH', 2000.0),\n",
       "             ('CHAN', 2048),\n",
       "             ('BW', 24.98779296875),\n",
       "             ('WINDOW', 'h'),\n",
       "             ('FITTYPE', 'P'),\n",
       "             ('RMS', 1.185499429702759),\n",
       "             ('W50', 183.5436706542969),\n",
       "             ('W50ERR', 17.05303001403809),\n",
       "             ('W20', 228.2115325927734),\n",
       "             ('W20ERR', 17.05303001403809),\n",
       "             ('VSYS', 3629.439697265625),\n",
       "             ('VSYSERR', 12.05831336975098),\n",
       "             ('FLUX', 0.6110618710517883),\n",
       "             ('FLUXERR', 0.0617220476269722),\n",
       "             ('SN', 8.507445335388184),\n",
       "             ('comments',\n",
       "              ['Strong absorption at 2500 km/s. Detection is weak, appears horned but co',\n",
       "               'uld be gaussian.',\n",
       "               'WARNING! Converted by early version of SavFITSconvert.py'])])"
      ]
     },
     "execution_count": 60,
     "metadata": {},
     "output_type": "execute_result"
    }
   ],
   "source": [
    "testdat.meta"
   ]
  },
  {
   "cell_type": "code",
   "execution_count": 68,
   "id": "96e62611",
   "metadata": {},
   "outputs": [
    {
     "data": {
      "image/png": "[encoded data removed]",
      "text/plain": [
       "<Figure size 432x288 with 1 Axes>"
      ]
     },
     "metadata": {
      "needs_background": "light"
     },
     "output_type": "display_data"
    }
   ],
   "source": [
    "plt.plot(testdat['VHELIO'], testdat['FLUX'])\n",
    "plt.suptitle(testdat.meta['HISRC']);"
   ]
  },
  {
   "cell_type": "code",
   "execution_count": 65,
   "id": "4f90b48f",
   "metadata": {},
   "outputs": [
    {
     "name": "stdout",
     "output_type": "stream",
     "text": [
      "-------------------MAIN FITS HEADER----------------------\n",
      "SIMPLE  =                    T / conforms to FITS standard                      \n",
      "BITPIX  =                    8 / array data type                                \n",
      "NAXIS   =                    0 / number of array dimensions                     \n",
      "EXTEND  =                    T                                                  \n",
      "COMMENT FITS file from idl .sav made using SavFITSconvert.py                    \n",
      "HISTORY David Craig for APPSS                                                   \n",
      "HISTORY Generated 2023-07-21T21:59:21.724130 UTC                                \n",
      "-------------------BINTABLE HEADER-----------------------\n",
      "XTENSION= 'BINTABLE'           / binary table extension                         \n",
      "BITPIX  =                    8 / array data type                                \n",
      "NAXIS   =                    2 / number of array dimensions                     \n",
      "NAXIS1  =                   32 / length of dimension 1                          \n",
      "NAXIS2  =                 2048 / length of dimension 2                          \n",
      "PCOUNT  =                    0 / number of group parameters                     \n",
      "GCOUNT  =                    1 / number of groups                               \n",
      "TFIELDS =                    4 / number of table fields                         \n",
      "TCUNI1  = 'km/s    '                                                            \n",
      "TCUNI2  = 'MHz     '                                                            \n",
      "TCUNI3  = 'mJy     '                                                            \n",
      "TCUNI4  = 'mJy     '                                                            \n",
      "TTYPE1  = 'VHELIO  '                                                            \n",
      "TFORM1  = 'D       '                                                            \n",
      "TTYPE2  = 'FREQUENCY'                                                           \n",
      "TFORM2  = 'D       '                                                            \n",
      "TTYPE3  = 'FLUX    '                                                            \n",
      "TFORM3  = 'D       '                                                            \n",
      "TTYPE4  = 'BASELINE'                                                            \n",
      "TFORM4  = 'D       '                                                            \n",
      "EXTNAME = 'Single Dish'        / APPSS Survey                                   \n",
      "OBSERVAT= 'Arecibo Observatory' / Designation of Observatory                    \n",
      "TELESCOP= 'Arecibo Radio Telescope' / Designation of Telescope                  \n",
      "INSTRUME= 'LBW receiver'       / Instrument in use                              \n",
      "BEAM    = '3.3x3.8 '           / Beam size [arcminutes] REVISE FOR LBW?         \n",
      "NANVALUE=               -999.0 / Value of missing/null data                     \n",
      "OBJECT  = 'UNASSIGNED  '       / Name of observed object                        \n",
      "NAME    = '' / Common name                                                      \n",
      "HISRC   = 'A092457.4+113231'   / HI source name                                 \n",
      "ORIGIN  = 'SavFITSconvert.py conversion D Craig' / File creation location       \n",
      "RA      =    141.2391711178065 / Right ascension in degrees                     \n",
      "DEC     =    11.54138895171171 / Declination in degrees                         \n",
      "EPOCH   =               2000.0 / Epoch for coordinates (years)                  \n",
      "CHAN    =                 2048 / Number of spectral channels                    \n",
      "BW      =       24.98779296875 / Bandwidth [MHz]                                \n",
      "WINDOW  = 'h       '           / h for Hamming(?)                               \n",
      "FITTYPE = 'P       '           / P for polynomial                               \n",
      "RMS     =    1.185499429702759 / RMS of spectrum (noise)                        \n",
      "W50     =    183.5436706542969 / estimated velocity width at 50%                \n",
      "W50ERR  =    17.05303001403809 / error in W50                                   \n",
      "W20     =    228.2115325927734 / estimated velocity width at 20%                \n",
      "W20ERR  =    17.05303001403809 / error in W20                                   \n",
      "VSYS    =    3629.439697265625 / systemic velocity [km/s]                       \n",
      "VSYSERR =    12.05831336975098 / error in Vsys [km/s]                           \n",
      "FLUX    =   0.6110618710517883 / integrated flux [Jy km/s]                      \n",
      "FLUXERR =   0.0617220476269722 / error in integrated flux                       \n",
      "SN      =    8.507445335388184 / estimated signal-to-noise ratio                \n",
      "COMMENT Strong absorption at 2500 km/s. Detection is weak, appears horned but co\n",
      "COMMENT uld be gaussian.                                                        \n",
      "COMMENT WARNING! Converted by early version of SavFITSconvert.py                \n"
     ]
    }
   ],
   "source": [
    "hdul = fits.open(testing_file)\n",
    "print(\"-------------------MAIN FITS HEADER----------------------\")\n",
    "print(repr(hdul[0].header))\n",
    "    \n",
    "print(\"-------------------BINTABLE HEADER-----------------------\")\n",
    "print(repr(hdul[1].header))\n",
    "hdul.close()"
   ]
  },
  {
   "cell_type": "code",
   "execution_count": null,
   "id": "9d2d2fe1",
   "metadata": {},
   "outputs": [],
   "source": []
  },
  {
   "cell_type": "code",
   "execution_count": null,
   "id": "b2c712bf",
   "metadata": {},
   "outputs": [],
   "source": []
  }
 ],
 "metadata": {
  "kernelspec": {
   "display_name": "Python 3",
   "language": "python",
   "name": "python3"
  },
  "language_info": {
   "codemirror_mode": {
    "name": "ipython",
    "version": 3
   },
   "file_extension": ".py",
   "mimetype": "text/x-python",
   "name": "python",
   "nbconvert_exporter": "python",
   "pygments_lexer": "ipython3",
   "version": "3.6.13"
  }
 },
 "nbformat": 4,
 "nbformat_minor": 5
}
